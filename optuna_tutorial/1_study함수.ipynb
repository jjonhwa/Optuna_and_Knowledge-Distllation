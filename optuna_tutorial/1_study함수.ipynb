{
 "cells": [
  {
   "cell_type": "code",
   "execution_count": null,
   "metadata": {},
   "outputs": [],
   "source": [
    "# !pip install --quiet optuna\n",
    "import optuna"
   ]
  },
  {
   "cell_type": "markdown",
   "metadata": {},
   "source": [
    "## Quadratic Function Example"
   ]
  },
  {
   "cell_type": "code",
   "execution_count": 3,
   "metadata": {},
   "outputs": [],
   "source": [
    "# (x-2)^2 함수를 최적화해보자\n",
    "# 관례적으로 최적화 기능 함수 이름을 `objective`라고 한다.\n",
    "def objective(trial):\n",
    "    '''\n",
    "    Goal: `objective` 함수의 output을 가장 작게 만드는 x를 찾는 것\n",
    "    Return: (x-2)^2의 값\n",
    "    Process: 다른 x를 활용해가며 반복적으로 실행, 평가한다.\n",
    "    \n",
    "    Args:\n",
    "        trial -> 호출할 때, 내부적으로 인스턴스화 된다.\n",
    "        trial.suggest_float -> 제공된 범위 내에서 균일하게 선택한다.\n",
    "        (float, int, categorical 등이 존재)\n",
    "    '''\n",
    "\n",
    "    x = trial.suggest_float(\"x\", -10, 10)\n",
    "    return (x-2) ** 2 "
   ]
  },
  {
   "cell_type": "code",
   "execution_count": null,
   "metadata": {},
   "outputs": [],
   "source": [
    "# study object를 생성\n",
    "# 이에 `objective` 함수를 삽입하여 진행한다.\n",
    "study = optuna.create_study()\n",
    "study.optimize(objective, n_trials=100)"
   ]
  },
  {
   "cell_type": "code",
   "execution_count": 7,
   "metadata": {},
   "outputs": [
    {
     "name": "stdout",
     "output_type": "stream",
     "text": [
      "Found x: 2.0057409782060938, (x-2)^2: 3.295883076284354e-05\n"
     ]
    }
   ],
   "source": [
    "best_params = study.best_params\n",
    "found_x = best_params['x']\n",
    "print('Found x: {}, (x-2)^2: {}'.format(found_x, (found_x-2) ** 2))"
   ]
  },
  {
   "cell_type": "markdown",
   "metadata": {},
   "source": [
    "## Study Object"
   ]
  },
  {
   "cell_type": "markdown",
   "metadata": {},
   "source": [
    "- Trial: `objective` 함수 호출하는 횟수\n",
    "- Study: 최적화 session\n",
    "- Parameter: 최적화할 변수\n"
   ]
  },
  {
   "cell_type": "code",
   "execution_count": 8,
   "metadata": {},
   "outputs": [
    {
     "data": {
      "text/plain": [
       "{'x': 2.0057409782060938}"
      ]
     },
     "execution_count": 8,
     "metadata": {},
     "output_type": "execute_result"
    }
   ],
   "source": [
    "# Parameter 이름과 값을 dictionary형태로 받는다.\n",
    "study.best_params"
   ]
  },
  {
   "cell_type": "code",
   "execution_count": 10,
   "metadata": {},
   "outputs": [
    {
     "data": {
      "text/plain": [
       "3.295883076284354e-05"
      ]
     },
     "execution_count": 10,
     "metadata": {},
     "output_type": "execute_result"
    }
   ],
   "source": [
    "# objective 함수에서 가장 좋았던 값을 얻는다.\n",
    "study.best_value # x가 2.0057409782060938일 때, (X-2)^2는 3.295883076284354e-05"
   ]
  },
  {
   "cell_type": "code",
   "execution_count": 11,
   "metadata": {},
   "outputs": [
    {
     "data": {
      "text/plain": [
       "FrozenTrial(number=74, values=[3.295883076284354e-05], datetime_start=datetime.datetime(2021, 11, 26, 14, 14, 56, 95328), datetime_complete=datetime.datetime(2021, 11, 26, 14, 14, 56, 99328), params={'x': 2.0057409782060938}, distributions={'x': UniformDistribution(high=10.0, low=-10.0)}, user_attrs={}, system_attrs={}, intermediate_values={}, trial_id=74, state=TrialState.COMPLETE, value=None)"
      ]
     },
     "execution_count": 11,
     "metadata": {},
     "output_type": "execute_result"
    }
   ],
   "source": [
    "# 몇 번째에서 가장 좋은 trial을 얻었는지 알 수 있다.\n",
    "study.best_trial"
   ]
  }
 ],
 "metadata": {
  "interpreter": {
   "hash": "337f1a600d345c50cd007a2461b073851b5ec4b77bc6c65adb33d085b42175ad"
  },
  "kernelspec": {
   "display_name": "Python 3.9.5 64-bit ('base': conda)",
   "language": "python",
   "name": "python3"
  },
  "language_info": {
   "codemirror_mode": {
    "name": "ipython",
    "version": 3
   },
   "file_extension": ".py",
   "mimetype": "text/x-python",
   "name": "python",
   "nbconvert_exporter": "python",
   "pygments_lexer": "ipython3",
   "version": "3.9.5"
  },
  "orig_nbformat": 4
 },
 "nbformat": 4,
 "nbformat_minor": 2
}
